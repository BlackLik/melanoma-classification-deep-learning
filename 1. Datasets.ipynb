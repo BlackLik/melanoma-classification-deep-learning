{
 "cells": [
  {
   "cell_type": "code",
   "execution_count": 3,
   "metadata": {},
   "outputs": [],
   "source": [
    "import shutil\n",
    "from pathlib import Path\n",
    "\n",
    "import pandas as pd"
   ]
  },
  {
   "cell_type": "code",
   "execution_count": 5,
   "metadata": {},
   "outputs": [],
   "source": [
    "# Исходные папки\n",
    "\n",
    "\n",
    "def main():\n",
    "    main_dir = Path(\"./data\")\n",
    "    source_dirs = [main_dir / \"train\", main_dir / \"/test\"]\n",
    "    target_dir = main_dir / \"all_data\"\n",
    "\n",
    "    if target_dir.exists():\n",
    "        return\n",
    "\n",
    "    # Создаем главную папку\n",
    "    Path(target_dir).mkdir(exist_ok=True)\n",
    "\n",
    "    # Список для хранения информации о метках\n",
    "    data_list = []\n",
    "\n",
    "    # Проходим по всем исходным директориям (train и test)\n",
    "    for source_dir in source_dirs:\n",
    "        for class_name in Path(source_dir).iterdir():\n",
    "            class_path = Path(source_dir, class_name)\n",
    "\n",
    "            # Пропускаем, если не папка\n",
    "            if not Path(class_path).is_dir():\n",
    "                continue\n",
    "\n",
    "            # Создаем такую же папку в `all_data/`\n",
    "            class_target_dir = Path(target_dir, class_name)\n",
    "            Path(class_target_dir).mkdir(exist_ok=True)\n",
    "\n",
    "            # Проходим по файлам в этой категории\n",
    "            for file_name in Path(class_path).iterdir():\n",
    "                old_path = Path(class_path, file_name)\n",
    "                new_path = Path(class_target_dir, file_name)\n",
    "\n",
    "                # Копируем файл\n",
    "                shutil.copy2(old_path, new_path)\n",
    "\n",
    "                # Добавляем запись в список\n",
    "                data_list.append([class_name, file_name])\n",
    "\n",
    "    # Создаем DataFrame и сохраняем метки в CSV\n",
    "    df_files = pd.DataFrame(data_list, columns=[\"class\", \"filename\"])\n",
    "    df_files.to_csv(Path(target_dir, \"labels.csv\"), index=False)\n",
    "\n",
    "    for elem in source_dirs:\n",
    "        shutil.rmtree(elem)\n",
    "\n",
    "    print(f\"✅ Все файлы объединены в {target_dir} с сохранением структуры!\")\n",
    "\n",
    "\n",
    "main()"
   ]
  }
 ],
 "metadata": {
  "kernelspec": {
   "display_name": "venv",
   "language": "python",
   "name": "python3"
  },
  "language_info": {
   "codemirror_mode": {
    "name": "ipython",
    "version": 3
   },
   "file_extension": ".py",
   "mimetype": "text/x-python",
   "name": "python",
   "nbconvert_exporter": "python",
   "pygments_lexer": "ipython3",
   "version": "3.13.1"
  }
 },
 "nbformat": 4,
 "nbformat_minor": 4
}
