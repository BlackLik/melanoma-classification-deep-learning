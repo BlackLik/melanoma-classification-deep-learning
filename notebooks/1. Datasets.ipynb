{
 "cells": [
  {
   "cell_type": "code",
   "execution_count": 8,
   "metadata": {},
   "outputs": [],
   "source": [
    "import os\n",
    "from pathlib import Path\n",
    "import shutil\n",
    "import pandas as pd\n"
   ]
  },
  {
   "cell_type": "code",
   "execution_count": 9,
   "metadata": {},
   "outputs": [
    {
     "name": "stdout",
     "output_type": "stream",
     "text": [
      "✅ Все файлы объединены в ../data/all_data с сохранением структуры!\n"
     ]
    }
   ],
   "source": [
    "# Исходные папки\n",
    "\n",
    "def main():\n",
    "\tsource_dirs = [\"../data/train\", \"../data/test\"]\n",
    "\ttarget_dir = \"../data/all_data\"\n",
    "\n",
    "\tif Path(target_dir).exists():\n",
    "\t\treturn\n",
    "\n",
    "\t# Создаем главную папку\n",
    "\tos.makedirs(target_dir, exist_ok=True)\n",
    "\n",
    "\t# Список для хранения информации о метках\n",
    "\tdata_list = []\n",
    "\n",
    "\t# Проходим по всем исходным директориям (train и test)\n",
    "\tfor source_dir in source_dirs:\n",
    "\t\tfor class_name in os.listdir(source_dir):\n",
    "\t\t\tclass_path = os.path.join(source_dir, class_name)\n",
    "\n",
    "\t\t\t# Пропускаем, если не папка\n",
    "\t\t\tif not os.path.isdir(class_path):\n",
    "\t\t\t\tcontinue\n",
    "\n",
    "\t\t\t# Создаем такую же папку в `all_data/`\n",
    "\t\t\tclass_target_dir = os.path.join(target_dir, class_name)\n",
    "\t\t\tos.makedirs(class_target_dir, exist_ok=True)\n",
    "\n",
    "\t\t\t# Проходим по файлам в этой категории\n",
    "\t\t\tfor file_name in os.listdir(class_path):\n",
    "\t\t\t\told_path = os.path.join(class_path, file_name)\n",
    "\t\t\t\tnew_path = os.path.join(class_target_dir, file_name)\n",
    "\n",
    "\t\t\t\t# Копируем файл\n",
    "\t\t\t\tshutil.copy2(old_path, new_path)\n",
    "\n",
    "\t\t\t\t# Добавляем запись в список\n",
    "\t\t\t\tdata_list.append([class_name, file_name])\n",
    "\n",
    "\t# Создаем DataFrame и сохраняем метки в CSV\n",
    "\tdf_files = pd.DataFrame(data_list, columns=[\"class\", \"filename\"])\n",
    "\tdf_files.to_csv(os.path.join(target_dir, \"labels.csv\"), index=False)\n",
    "\n",
    "\tfor elem in source_dirs:\n",
    "\t\tshutil.rmtree(elem)\n",
    "\n",
    "\tprint(f\"✅ Все файлы объединены в {target_dir} с сохранением структуры!\")\n",
    "\n",
    "main()"
   ]
  }
 ],
 "metadata": {
  "kernelspec": {
   "display_name": ".venv",
   "language": "python",
   "name": "python3"
  },
  "language_info": {
   "codemirror_mode": {
    "name": "ipython",
    "version": 3
   },
   "file_extension": ".py",
   "mimetype": "text/x-python",
   "name": "python",
   "nbconvert_exporter": "python",
   "pygments_lexer": "ipython3",
   "version": "3.13.1"
  }
 },
 "nbformat": 4,
 "nbformat_minor": 2
}
