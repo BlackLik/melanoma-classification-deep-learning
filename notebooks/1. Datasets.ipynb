{
 "cells": [
  {
   "cell_type": "code",
   "execution_count": 1,
   "metadata": {},
   "outputs": [],
   "source": [
    "import os\n",
    "import shutil\n",
    "from pathlib import Path\n",
    "\n",
    "import pandas as pd\n"
   ]
  },
  {
   "cell_type": "code",
   "execution_count": null,
   "metadata": {},
   "outputs": [],
   "source": [
    "# Исходные папки\n",
    "\n",
    "def main():\n",
    "    source_dirs = [\"../data/train\", \"../data/test\"]\n",
    "    target_dir = \"../data/all_data\"\n",
    "\n",
    "    if Path(target_dir).exists():\n",
    "        return\n",
    "\n",
    "    # Создаем главную папку\n",
    "    os.makedirs(target_dir, exist_ok=True)\n",
    "\n",
    "    # Список для хранения информации о метках\n",
    "    data_list = []\n",
    "\n",
    "    # Проходим по всем исходным директориям (train и test)\n",
    "    for source_dir in source_dirs:\n",
    "        for class_name in os.listdir(source_dir):\n",
    "            class_path = os.path.join(source_dir, class_name)\n",
    "\n",
    "            # Пропускаем, если не папка\n",
    "            if not os.path.isdir(class_path):\n",
    "                continue\n",
    "\n",
    "            # Создаем такую же папку в `all_data/`\n",
    "            class_target_dir = os.path.join(target_dir, class_name)\n",
    "            os.makedirs(class_target_dir, exist_ok=True)\n",
    "\n",
    "            # Проходим по файлам в этой категории\n",
    "            for file_name in os.listdir(class_path):\n",
    "                old_path = os.path.join(class_path, file_name)\n",
    "                new_path = os.path.join(class_target_dir, file_name)\n",
    "\n",
    "                # Копируем файл\n",
    "                shutil.copy2(old_path, new_path)\n",
    "\n",
    "                # Добавляем запись в список\n",
    "                data_list.append([class_name, file_name])\n",
    "\n",
    "    # Создаем DataFrame и сохраняем метки в CSV\n",
    "    df_files = pd.DataFrame(data_list, columns=[\"class\", \"filename\"])\n",
    "    df_files.to_csv(os.path.join(target_dir, \"labels.csv\"), index=False)\n",
    "\n",
    "    for elem in source_dirs:\n",
    "        shutil.rmtree(elem)\n",
    "\n",
    "    print(f\"✅ Все файлы объединены в {target_dir} с сохранением структуры!\")\n",
    "\n",
    "main()"
   ]
  }
 ],
 "metadata": {
  "kernelspec": {
   "display_name": ".venv",
   "language": "python",
   "name": "python3"
  },
  "language_info": {
   "codemirror_mode": {
    "name": "ipython",
    "version": 3
   },
   "file_extension": ".py",
   "mimetype": "text/x-python",
   "name": "python",
   "nbconvert_exporter": "python",
   "pygments_lexer": "ipython3",
   "version": "3.13.1"
  }
 },
 "nbformat": 4,
 "nbformat_minor": 2
}
