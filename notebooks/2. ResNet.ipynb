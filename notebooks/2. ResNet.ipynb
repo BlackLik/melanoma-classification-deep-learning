{
 "cells": [
  {
   "cell_type": "code",
   "execution_count": 29,
   "metadata": {},
   "outputs": [],
   "source": [
    "import os\n",
    "import shutil\n",
    "import torch\n",
    "import torch.nn as nn\n",
    "import torchvision.models as models\n",
    "import torchvision.transforms as transforms\n",
    "from torch.utils.data import DataLoader, Dataset\n",
    "import pandas as pd\n",
    "import matplotlib.pyplot as plt\n",
    "import seaborn as sns\n",
    "import cv2\n",
    "from sklearn.model_selection import train_test_split\n",
    "\n",
    "sns.set_theme()\n",
    "%matplotlib inline"
   ]
  },
  {
   "cell_type": "code",
   "execution_count": 30,
   "metadata": {},
   "outputs": [],
   "source": [
    "MAIN_DATA_DIR = \"../data\"\n",
    "data_dir = f\"{MAIN_DATA_DIR}/all_data\"\n",
    "labels_file = os.path.join(data_dir, \"labels.csv\")"
   ]
  },
  {
   "cell_type": "code",
   "execution_count": 31,
   "metadata": {},
   "outputs": [
    {
     "name": "stdout",
     "output_type": "stream",
     "text": [
      "<class 'pandas.core.frame.DataFrame'>\n",
      "RangeIndex: 506 entries, 0 to 505\n",
      "Data columns (total 2 columns):\n",
      " #   Column    Non-Null Count  Dtype \n",
      "---  ------    --------------  ----- \n",
      " 0   class     506 non-null    object\n",
      " 1   filename  506 non-null    object\n",
      "dtypes: object(2)\n",
      "memory usage: 8.0+ KB\n"
     ]
    }
   ],
   "source": [
    "df_data = pd.read_csv(labels_file)\n",
    "df_data = df_data[df_data[\"class\"] != \"SkinCancer\"]\n",
    "df_data = df_data.sample(frac=0.02, random_state=42).reset_index(drop=True)\n",
    "df_data.info()"
   ]
  },
  {
   "cell_type": "code",
   "execution_count": 32,
   "metadata": {},
   "outputs": [],
   "source": [
    "train_val, test = train_test_split(df_data, test_size=0.1, random_state=42, stratify=df_data[\"class\"])\n",
    "train, val = train_test_split(train_val, test_size=0.1, random_state=42, stratify=train_val[\"class\"])\n",
    "\n",
    "def save_split(df, name):\n",
    "    split_dir = os.path.join(f\"{MAIN_DATA_DIR}/dataset\", name)\n",
    "    os.makedirs(split_dir, exist_ok=True)\n",
    "\n",
    "    for _, row in df.iterrows():\n",
    "        class_name = row[\"class\"]\n",
    "        file_name = row[\"filename\"]\n",
    "        src_path = os.path.join(f\"{MAIN_DATA_DIR}/all_data\", class_name, file_name)\n",
    "        dst_dir = os.path.join(split_dir, class_name)\n",
    "        os.makedirs(dst_dir, exist_ok=True)\n",
    "        dst_path = os.path.join(dst_dir, file_name)\n",
    "\n",
    "        if os.path.exists(src_path):\n",
    "            shutil.copy2(src_path, dst_path)  # Копируем файл\n",
    "        else:\n",
    "            print(f\"⚠️ Файл не найден: {src_path}\")  # Отслеживаем отсутствующие файлы\n",
    "\n",
    "    df.to_csv(os.path.join(split_dir, \"labels.csv\"), index=False)\n",
    "\n",
    "save_split(train, \"train\")\n",
    "save_split(val, \"val\")\n",
    "save_split(test, \"test\")\n"
   ]
  },
  {
   "cell_type": "code",
   "execution_count": 33,
   "metadata": {},
   "outputs": [],
   "source": [
    "class SkinDataset(Dataset):\n",
    "    def __init__(self, df, root_dir, transform=None):\n",
    "        self.df = df.reset_index(drop=True)  # Сбрасываем индексы\n",
    "        self.root_dir = root_dir\n",
    "        self.transform = transform\n",
    "\n",
    "    def __len__(self):\n",
    "        return len(self.df)\n",
    "\n",
    "    def __getitem__(self, idx):\n",
    "        img_class = str(self.df.iloc[idx, 0])  # Приводим к строке\n",
    "        img_name = self.df.iloc[idx, 1]  # filename\n",
    "        img_path = os.path.join(self.root_dir, img_class, img_name)  # Исправляем путь\n",
    "\n",
    "        if not os.path.exists(img_path):\n",
    "            print(f\"⚠️ Файл не найден: {img_path}\")\n",
    "            return None  # Пропускаем отсутствующие файлы\n",
    "\n",
    "        image = cv2.imread(img_path, cv2.IMREAD_COLOR)\n",
    "        if image is None:\n",
    "            print(f\"⚠️ Ошибка загрузки изображения: {img_path}\")\n",
    "            return None  # Пропускаем пустые изображения\n",
    "\n",
    "        image = cv2.cvtColor(image, cv2.COLOR_BGR2RGB)\n",
    "\n",
    "        if self.transform:\n",
    "            image = self.transform(image)\n",
    "\n",
    "        label = torch.tensor(1 if self.df.iloc[idx, 0] == 'malignant' else 0, dtype=torch.long)\n",
    "        return image, label\n"
   ]
  },
  {
   "cell_type": "code",
   "execution_count": 34,
   "metadata": {},
   "outputs": [],
   "source": [
    "transform = transforms.Compose([\n",
    "    transforms.ToPILImage(),\n",
    "    transforms.Resize((128, 128)),\n",
    "    transforms.ToTensor(),\n",
    "    transforms.Normalize(mean=[0.5], std=[0.5])\n",
    "])\n"
   ]
  },
  {
   "cell_type": "code",
   "execution_count": 35,
   "metadata": {},
   "outputs": [],
   "source": [
    "train_dataset = SkinDataset(train, os.path.join(f\"{MAIN_DATA_DIR}/dataset\", \"train\"), transform)\n",
    "val_dataset = SkinDataset(val, os.path.join(f\"{MAIN_DATA_DIR}/dataset\", \"val\"), transform)\n",
    "test_dataset = SkinDataset(test, os.path.join(f\"{MAIN_DATA_DIR}/dataset\", \"test\"), transform)\n",
    "\n",
    "train_loader = DataLoader(train_dataset, batch_size=16, shuffle=True)\n",
    "val_loader = DataLoader(val_dataset, batch_size=16, shuffle=False)\n",
    "test_loader = DataLoader(test_dataset, batch_size=16, shuffle=False)"
   ]
  },
  {
   "cell_type": "code",
   "execution_count": 36,
   "metadata": {},
   "outputs": [],
   "source": [
    "class ResNet50Model(nn.Module):\n",
    "    def __init__(self, num_classes=3):\n",
    "        super(ResNet50Model, self).__init__()\n",
    "        self.model = models.resnet50(pretrained=True)\n",
    "        self.model.fc = nn.Linear(2048, num_classes)\n",
    "\n",
    "    def forward(self, x):\n",
    "        return self.model(x)\n"
   ]
  },
  {
   "cell_type": "code",
   "execution_count": 37,
   "metadata": {},
   "outputs": [
    {
     "name": "stderr",
     "output_type": "stream",
     "text": [
      "c:\\Users\\User\\Desktop\\melanoma-classification-deep-learning\\.venv\\Lib\\site-packages\\torchvision\\models\\_utils.py:208: UserWarning: The parameter 'pretrained' is deprecated since 0.13 and may be removed in the future, please use 'weights' instead.\n",
      "  warnings.warn(\n",
      "c:\\Users\\User\\Desktop\\melanoma-classification-deep-learning\\.venv\\Lib\\site-packages\\torchvision\\models\\_utils.py:223: UserWarning: Arguments other than a weight enum or `None` for 'weights' are deprecated since 0.13 and may be removed in the future. The current behavior is equivalent to passing `weights=ResNet50_Weights.IMAGENET1K_V1`. You can also use `weights=ResNet50_Weights.DEFAULT` to get the most up-to-date weights.\n",
      "  warnings.warn(msg)\n"
     ]
    }
   ],
   "source": [
    "device = torch.device(\"cuda\" if torch.cuda.is_available() else \"cpu\")\n",
    "num_classes = 2\n",
    "model = ResNet50Model(num_classes).to(device)\n",
    "\n",
    "criterion = nn.CrossEntropyLoss()\n",
    "optimizer = torch.optim.Adam(model.parameters(), lr=0.0001)"
   ]
  },
  {
   "cell_type": "code",
   "execution_count": 38,
   "metadata": {},
   "outputs": [],
   "source": [
    "def train_model(model, train_loader, val_loader, epochs=10):\n",
    "    train_acc_history = []\n",
    "    val_acc_history = []\n",
    "\n",
    "    for epoch in range(epochs):\n",
    "        print(f\"Epoch start {epoch}\")\n",
    "        model.train()\n",
    "        total_loss, correct, total = 0, 0, 0\n",
    "\n",
    "        for images, labels in train_loader:\n",
    "            images, labels = images.to(device), labels.to(device)\n",
    "\n",
    "            optimizer.zero_grad()\n",
    "            outputs = model(images)\n",
    "            loss = criterion(outputs, labels)\n",
    "            loss.backward()\n",
    "            optimizer.step()\n",
    "\n",
    "            total_loss += loss.item()\n",
    "            correct += (outputs.argmax(dim=1) == labels).sum().item()\n",
    "            total += labels.size(0)\n",
    "\n",
    "        train_acc = correct / total\n",
    "        train_acc_history.append(train_acc)\n",
    "\n",
    "        # Оценка на валидации\n",
    "        print(f\"Training accuracy history for {epoch} epoch\")\n",
    "        model.eval()\n",
    "        correct, total = 0, 0\n",
    "        with torch.no_grad():\n",
    "            for images, labels in val_loader:\n",
    "                images, labels = images.to(device), labels.to(device)\n",
    "                outputs = model(images)\n",
    "                correct += (outputs.argmax(dim=1) == labels).sum().item()\n",
    "                total += labels.size(0)\n",
    "        val_acc = correct / total\n",
    "        val_acc_history.append(val_acc)\n",
    "\n",
    "        print(f\"Epoch {epoch+1}/{epochs} - Loss: {total_loss:.4f}, Train Acc: {train_acc:.4f}, Val Acc: {val_acc:.4f}\")\n",
    "\n",
    "    # Построение графика\n",
    "    plt.plot(range(1, epochs+1), train_acc_history, label='Train Accuracy')\n",
    "    plt.plot(range(1, epochs+1), val_acc_history, label='Validation Accuracy')\n",
    "    plt.xlabel('Epochs')\n",
    "    plt.ylabel('Accuracy')\n",
    "    plt.legend()\n",
    "    plt.title('Training and Validation Accuracy')\n",
    "    plt.show()\n",
    "\n",
    "    return model"
   ]
  },
  {
   "cell_type": "code",
   "execution_count": 39,
   "metadata": {},
   "outputs": [
    {
     "name": "stdout",
     "output_type": "stream",
     "text": [
      "Epoch start 0\n",
      "Training accuracy history for 0 epoch\n",
      "Epoch 1/10 - Loss: 8.3898, Train Acc: 0.8484, Val Acc: 0.8913\n",
      "Epoch start 1\n",
      "Training accuracy history for 1 epoch\n",
      "Epoch 2/10 - Loss: 2.6222, Train Acc: 0.9633, Val Acc: 0.8913\n",
      "Epoch start 2\n",
      "Training accuracy history for 2 epoch\n",
      "Epoch 3/10 - Loss: 2.8445, Train Acc: 0.9658, Val Acc: 0.8696\n",
      "Epoch start 3\n",
      "Training accuracy history for 3 epoch\n",
      "Epoch 4/10 - Loss: 1.4375, Train Acc: 0.9902, Val Acc: 0.8913\n",
      "Epoch start 4\n",
      "Training accuracy history for 4 epoch\n",
      "Epoch 5/10 - Loss: 1.4415, Train Acc: 0.9853, Val Acc: 0.8478\n",
      "Epoch start 5\n",
      "Training accuracy history for 5 epoch\n",
      "Epoch 6/10 - Loss: 0.6677, Train Acc: 0.9951, Val Acc: 0.8913\n",
      "Epoch start 6\n",
      "Training accuracy history for 6 epoch\n",
      "Epoch 7/10 - Loss: 0.3386, Train Acc: 0.9976, Val Acc: 0.8913\n",
      "Epoch start 7\n",
      "Training accuracy history for 7 epoch\n",
      "Epoch 8/10 - Loss: 0.3920, Train Acc: 0.9951, Val Acc: 0.8913\n",
      "Epoch start 8\n",
      "Training accuracy history for 8 epoch\n",
      "Epoch 9/10 - Loss: 0.2035, Train Acc: 1.0000, Val Acc: 0.8913\n",
      "Epoch start 9\n",
      "Training accuracy history for 9 epoch\n",
      "Epoch 10/10 - Loss: 0.7654, Train Acc: 0.9902, Val Acc: 0.8696\n"
     ]
    },
    {
     "data": {
      "image/png": "[encoded data removed]",
      "text/plain": [
       "<Figure size 640x480 with 1 Axes>"
      ]
     },
     "metadata": {},
     "output_type": "display_data"
    }
   ],
   "source": [
    "trained_model = train_model(model, train_loader, val_loader, epochs=10)"
   ]
  },
  {
   "cell_type": "code",
   "execution_count": 40,
   "metadata": {},
   "outputs": [
    {
     "name": "stdout",
     "output_type": "stream",
     "text": [
      "✅ Модель сохранена!\n"
     ]
    }
   ],
   "source": [
    "torch.save(trained_model.state_dict(), \"../experiments/weights/resnet50_melanoma.pth\")\n",
    "print(\"✅ Модель сохранена!\")"
   ]
  }
 ],
 "metadata": {
  "kernelspec": {
   "display_name": ".venv",
   "language": "python",
   "name": "python3"
  },
  "language_info": {
   "codemirror_mode": {
    "name": "ipython",
    "version": 3
   },
   "file_extension": ".py",
   "mimetype": "text/x-python",
   "name": "python",
   "nbconvert_exporter": "python",
   "pygments_lexer": "ipython3",
   "version": "3.13.1"
  }
 },
 "nbformat": 4,
 "nbformat_minor": 2
}
